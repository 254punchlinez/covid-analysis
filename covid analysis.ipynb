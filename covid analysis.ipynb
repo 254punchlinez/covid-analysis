{
 "cells": [
  {
   "cell_type": "markdown",
   "id": "701465cc",
   "metadata": {},
   "source": [
    "# COVID-19 Data Analysis\n",
    "A simple analysis of COVID-19 data using Python and common data science libraries."
   ]
  },
  {
   "cell_type": "code",
   "execution_count": null,
   "id": "618a94af",
   "metadata": {},
   "outputs": [],
   "source": [
    "# Import required libraries\n",
    "import pandas as pd\n",
    "import matplotlib.pyplot as plt\n",
    "import seaborn as sns\n",
    "\n",
    "# Set style for better visualizations\n",
    "plt.style.use('seaborn')\n",
    "sns.set_palette(\"husl\")"
   ]
  },
  {
   "cell_type": "code",
   "execution_count": null,
   "id": "815e0779",
   "metadata": {},
   "outputs": [],
   "source": [
    "# Load COVID-19 data from Our World in Data\n",
    "url = \"https://covid.ourworldindata.org/data/owid-covid-data.csv\"\n",
    "df = pd.read_csv(url)\n",
    "print(\"Data loaded successfully!\")"
   ]
  },
  {
   "cell_type": "markdown",
   "id": "1ace5b34",
   "metadata": {},
   "source": [
    "## Basic Data Exploration\n",
    "Let's examine the structure and content of our dataset."
   ]
  },
  {
   "cell_type": "code",
   "execution_count": null,
   "id": "7fc60e71",
   "metadata": {},
   "outputs": [],
   "source": [
    "# Display basic information about the dataset\n",
    "print(\"Dataset Shape:\", df.shape)\n",
    "print(\"\\nColumns:\", df.columns.tolist())\n",
    "print(\"\\nBasic Information:\")\n",
    "df.info()"
   ]
  },
  {
   "cell_type": "markdown",
   "id": "3b34f040",
   "metadata": {},
   "source": [
    "## Data Cleaning and Preparation\n",
    "We'll clean the data and focus on specific countries for our analysis."
   ]
  },
  {
   "cell_type": "code",
   "execution_count": null,
   "id": "e17f242e",
   "metadata": {},
   "outputs": [],
   "source": [
    "# Select relevant columns and countries\n",
    "columns_of_interest = ['location', 'date', 'total_cases', 'total_deaths', \n",
    "                      'new_cases', 'new_deaths', 'total_vaccinations']\n",
    "countries = ['United States', 'India', 'United Kingdom', 'Brazil', 'France']\n",
    "\n",
    "# Filter the dataset\n",
    "clean_df = df[df['location'].isin(countries)][columns_of_interest].copy()\n",
    "clean_df['date'] = pd.to_datetime(clean_df['date'])"
   ]
  },
  {
   "cell_type": "markdown",
   "id": "998ce3d3",
   "metadata": {},
   "source": [
    "## Time Series Analysis\n",
    "Visualizing the progression of cases over time for selected countries."
   ]
  },
  {
   "cell_type": "code",
   "execution_count": null,
   "id": "dd85b69f",
   "metadata": {},
   "outputs": [],
   "source": [
    "plt.figure(figsize=(12, 6))\n",
    "for country in countries:\n",
    "    country_data = clean_df[clean_df['location'] == country]\n",
    "    plt.plot(country_data['date'], country_data['total_cases'], label=country)\n",
    "\n",
    "plt.title('Total COVID-19 Cases Over Time')\n",
    "plt.xlabel('Date')\n",
    "plt.ylabel('Total Cases')\n",
    "plt.legend()\n",
    "plt.xticks(rotation=45)\n",
    "plt.tight_layout()\n",
    "plt.show()"
   ]
  },
  {
   "cell_type": "markdown",
   "id": "39631919",
   "metadata": {},
   "source": [
    "## Vaccination Progress Analysis\n",
    "Examining vaccination rates across different countries."
   ]
  },
  {
   "cell_type": "code",
   "execution_count": null,
   "id": "0aeba309",
   "metadata": {},
   "outputs": [],
   "source": [
    "plt.figure(figsize=(12, 6))\n",
    "for country in countries:\n",
    "    country_data = clean_df[clean_df['location'] == country]\n",
    "    plt.plot(country_data['date'], country_data['total_vaccinations'], label=country)\n",
    "\n",
    "plt.title('Total Vaccinations Over Time')\n",
    "plt.xlabel('Date')\n",
    "plt.ylabel('Total Vaccinations')\n",
    "plt.legend()\n",
    "plt.xticks(rotation=45)\n",
    "plt.tight_layout()\n",
    "plt.show()"
   ]
  },
  {
   "cell_type": "markdown",
   "id": "6e1eac31",
   "metadata": {},
   "source": [
    "## Additional Insights\n",
    "Calculate and display key metrics for each country."
   ]
  },
  {
   "cell_type": "code",
   "execution_count": null,
   "id": "0dabe894",
   "metadata": {},
   "outputs": [],
   "source": [
    "# Calculate summary statistics for each country\n",
    "summary_stats = clean_df.groupby('location').agg({\n",
    "    'total_cases': 'max',\n",
    "    'total_deaths': 'max',\n",
    "    'new_cases': 'mean',\n",
    "    'new_deaths': 'mean'\n",
    "}).round(2)\n",
    "\n",
    "summary_stats['death_rate'] = (summary_stats['total_deaths'] / summary_stats['total_cases'] * 100).round(2)\n",
    "print(\"Summary Statistics by Country:\")\n",
    "print(summary_stats)"
   ]
  }
 ],
 "metadata": {
  "language_info": {
   "name": "python"
  }
 },
 "nbformat": 4,
 "nbformat_minor": 5
}
